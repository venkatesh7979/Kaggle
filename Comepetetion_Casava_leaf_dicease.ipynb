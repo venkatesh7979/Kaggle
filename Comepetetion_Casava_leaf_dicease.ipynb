{
 "cells": [
  {
   "cell_type": "markdown",
   "metadata": {},
   "source": [
    "Import Libraries"
   ]
  },
  {
   "cell_type": "code",
   "execution_count": null,
   "metadata": {},
   "outputs": [],
   "source": [
    "from sklearn.utils import shuffle\n",
    "import cv2\n",
    "import tensorflow as tf \n",
    "from tensorflow.keras import applications\n",
    "from tensorflow.keras.preprocessing.image import ImageDataGenerator\n",
    "from tensorflow.keras.layers import Dense, Dropout, BatchNormalization, GlobalAveragePooling2D\n",
    "from keras.layers import Input, Lambda, Dense, Flatten\n",
    "from keras.models import Model\n",
    "from keras.applications.inception_resnet_v2 import InceptionResNetV2\n",
    "from keras.applications.inception_resnet_v2 import preprocess_input\n",
    "from keras.preprocessing import image\n",
    "from keras.preprocessing.image import ImageDataGenerator\n",
    "from keras.models import Sequential\n",
    "from keras.preprocessing import image\n",
    "from sklearn.model_selection import train_test_split\n",
    "import os\n",
    "import numpy as np\n",
    "from glob import glob\n",
    "import matplotlib.pyplot as plt\n",
    "import pandas as pd"
   ]
  },
  {
   "cell_type": "markdown",
   "metadata": {},
   "source": [
    "Directoy paths"
   ]
  },
  {
   "cell_type": "code",
   "execution_count": null,
   "metadata": {},
   "outputs": [],
   "source": [
    "train_csv_path = \"../input/cassava-leaf-disease-classification/train.csv\"\n",
    "label_json_path = \"../input/cassava-leaf-disease-classification/label_num_to_disease_map.json\"\n",
    "images_dir_path = \"../input/cassava-leaf-disease-classification/train_images\""
   ]
  },
  {
   "cell_type": "code",
   "execution_count": null,
   "metadata": {},
   "outputs": [],
   "source": [
    "train_csv = pd.read_csv(train_csv_path)\n",
    "train_csv['label'] = train_csv['label'].astype('string')\n",
    "\n",
    "label_class = pd.read_json(label_json_path, orient='index')\n",
    "label_class = label_class.values.flatten().tolist()"
   ]
  },
  {
   "cell_type": "code",
   "execution_count": null,
   "metadata": {},
   "outputs": [],
   "source": [
    "train_data_label_3 = train_csv[train_csv[\"label\"]=='3']\n",
    "train_data_label_3 = shuffle(train_data_label_3)\n",
    "train_data_label_3= train_data_label_3[:3000]\n",
    "\n",
    "train_data_label_not_3 = train_csv[train_csv[\"label\"]!='3']\n",
    "\n",
    "train_csv = pd.concat([train_data_label_3, train_data_label_not_3], ignore_index=True)"
   ]
  },
  {
   "cell_type": "markdown",
   "metadata": {},
   "source": [
    "Some insights about the data"
   ]
  },
  {
   "cell_type": "code",
   "execution_count": null,
   "metadata": {},
   "outputs": [],
   "source": [
    "print(\"Label names :\")\n",
    "for i, label in enumerate(label_class):\n",
    "    print(f\" {i}. {label}\")"
   ]
  },
  {
   "cell_type": "markdown",
   "metadata": {},
   "source": [
    "Define the batch size and image size"
   ]
  },
  {
   "cell_type": "code",
   "execution_count": null,
   "metadata": {},
   "outputs": [],
   "source": [
    "BATCH_SIZE = 18\n",
    "IMG_SIZE = 320"
   ]
  },
  {
   "cell_type": "raw",
   "metadata": {},
   "source": [
    "Data Augumentation"
   ]
  },
  {
   "cell_type": "code",
   "execution_count": null,
   "metadata": {},
   "outputs": [],
   "source": [
    "train_gen = ImageDataGenerator(\n",
    "                                rotation_range=360,\n",
    "                                width_shift_range=0.1,\n",
    "                                height_shift_range=0.1,\n",
    "                                brightness_range=[0.1,0.9],\n",
    "                                shear_range=25,\n",
    "                                zoom_range=0.3,\n",
    "                                channel_shift_range=0.1,\n",
    "                                horizontal_flip=True,\n",
    "                                vertical_flip=True,\n",
    "                                rescale=1/255,\n",
    "                                validation_split=0.15\n",
    "                               )\n",
    "                                    \n",
    "    \n",
    "valid_gen = ImageDataGenerator(rescale=1/255,\n",
    "                               validation_split = 0.15"
   ]
  },
  {
   "cell_type": "markdown",
   "metadata": {},
   "source": [
    "Loading train data generator"
   ]
  },
  {
   "cell_type": "code",
   "execution_count": null,
   "metadata": {},
   "outputs": [],
   "source": [
    "train_generator = train_gen.flow_from_dataframe(\n",
    "                            dataframe=train_csv,\n",
    "                            directory = images_dir_path,\n",
    "                            x_col = \"image_id\",\n",
    "                            y_col = \"label\",\n",
    "                            target_size = (IMG_SIZE, IMG_SIZE),\n",
    "                            class_mode = \"categorical\",\n",
    "                            batch_size = BATCH_SIZE,\n",
    "                            shuffle = True,\n",
    "                            subset = \"training\",\n",
    "\n",
    ")\n",
    "\n",
    "valid_generator = valid_gen.flow_from_dataframe(\n",
    "                            dataframe=train_csv,\n",
    "                            directory = images_dir_path,\n",
    "                            x_col = \"image_id\",\n",
    "                            y_col = \"label\",\n",
    "                            target_size = (IMG_SIZE, IMG_SIZE),\n",
    "                            class_mode = \"categorical\",\n",
    "                            batch_size = BATCH_SIZE,\n",
    "                            shuffle = False,\n",
    "                            subset = \"validation\"\n",
    ")"
   ]
  },
  {
   "cell_type": "markdown",
   "metadata": {},
   "source": [
    "Building the Model"
   ]
  },
  {
   "cell_type": "code",
   "execution_count": null,
   "metadata": {},
   "outputs": [],
   "source": [
    "#Inception Resnetv2 model\n",
    "base = applications.InceptionResNetV2(include_top=False, weights='imagenet',input_shape=[IMG_SIZE,IMG_SIZE,3])\n",
    "base.summary()"
   ]
  },
  {
   "cell_type": "code",
   "execution_count": null,
   "metadata": {},
   "outputs": [],
   "source": [
    "model = tf.keras.Sequential()\n",
    "model.add(base)\n",
    "model.add(BatchNormalization(axis=-1))\n",
    "model.add(GlobalAveragePooling2D())\n",
    "#We have 6 labels\n",
    "model.add(Dense(5, activation='softmax')) \n",
    "model.compile(loss=tf.keras.losses.CategoricalCrossentropy(), optimizer=tf.keras.optimizers.Adamax(learning_rate=0.01), metrics=['acc'])\n",
    "model.summary()"
   ]
  },
  {
   "cell_type": "markdown",
   "metadata": {},
   "source": [
    "Training the model"
   ]
  },
  {
   "cell_type": "code",
   "execution_count": null,
   "metadata": {},
   "outputs": [],
   "source": [
    "history = model.fit(train_generator, validation_data=valid_generator, epochs=12)"
   ]
  },
  {
   "cell_type": "markdown",
   "metadata": {},
   "source": [
    "Predictions"
   ]
  },
  {
   "cell_type": "code",
   "execution_count": null,
   "metadata": {},
   "outputs": [],
   "source": [
    "predictions = []\n",
    "\n",
    "for image in ss.image_id:\n",
    "    img = tf.keras.preprocessing.image.load_img('../input/cassava-leaf-disease-classification/test_images/' + image)\n",
    "    img = tf.keras.preprocessing.image.img_to_array(img)\n",
    "    img = tf.keras.preprocessing.image.smart_resize(img, (IMG_SIZE, IMG_SIZE))\n",
    "    img = tf.reshape(img, (-1, IMG_SIZE, IMG_SIZE, 3))\n",
    "    prediction = model.predict(img/255)\n",
    "    preds.append(np.argmax(prediction))\n",
    "\n",
    "my_submission = pd.DataFrame({'image_id': ss.image_id, 'label': preds})\n",
    "my_submission.to_csv('submission.csv', index=False) "
   ]
  }
 ],
 "metadata": {
  "kernelspec": {
   "display_name": "Python 3",
   "language": "python",
   "name": "python3"
  },
  "language_info": {
   "codemirror_mode": {
    "name": "ipython",
    "version": 3
   },
   "file_extension": ".py",
   "mimetype": "text/x-python",
   "name": "python",
   "nbconvert_exporter": "python",
   "pygments_lexer": "ipython3",
   "version": "3.8.5"
  }
 },
 "nbformat": 4,
 "nbformat_minor": 4
}
